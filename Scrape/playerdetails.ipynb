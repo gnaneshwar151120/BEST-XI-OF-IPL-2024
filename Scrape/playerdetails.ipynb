{
 "cells": [
  {
   "cell_type": "code",
   "execution_count": 40,
   "metadata": {},
   "outputs": [],
   "source": [
    "from selenium import webdriver\n",
    "from selenium.webdriver.common.by import By\n",
    "from selenium.webdriver.support.ui import WebDriverWait\n",
    "from selenium.webdriver.support import expected_conditions as EC\n",
    "from selenium.webdriver.chrome.options import Options\n",
    "from tqdm import tqdm\n",
    "import csv\n",
    "import time"
   ]
  },
  {
   "cell_type": "code",
   "execution_count": 41,
   "metadata": {},
   "outputs": [],
   "source": [
    "class IPLScraper:\n",
    "    def __init__(self):\n",
    "        self.setup_driver()\n",
    "        \n",
    "    def setup_driver(self):\n",
    "        chrome_options = Options()\n",
    "        chrome_options.add_argument('--headless')\n",
    "        chrome_options.add_argument('--disable-gpu')\n",
    "        chrome_options.add_argument('--no-sandbox')\n",
    "        chrome_options.add_argument('--disable-dev-shm-usage')\n",
    "        chrome_options.add_argument('--blink-settings=imagesEnabled=false')\n",
    "        chrome_options.add_argument('--disable-extensions')\n",
    "        chrome_options.page_load_strategy = 'eager'\n",
    "        \n",
    "        self.driver = webdriver.Chrome(options=chrome_options)\n",
    "        self.wait = WebDriverWait(self.driver, 10)\n",
    "        \n",
    "    def get_all_team_links(self):\n",
    "        \"\"\"Get links for all IPL teams\"\"\"\n",
    "        self.driver.get(\"https://www.espncricinfo.com/series/indian-premier-league-2024-1410320/squads\")\n",
    "        team_elements = self.wait.until(\n",
    "            EC.presence_of_all_elements_located(\n",
    "                (By.CSS_SELECTOR, \"div.ds-flex.ds-space-x-2 a\")\n",
    "            )\n",
    "        )\n",
    "        return [elem.get_attribute('href') for elem in team_elements]\n",
    "\n",
    "    def get_player_links_for_team(self, team_url):\n",
    "        \"\"\"Get all player links for a specific team\"\"\"\n",
    "        self.driver.get(team_url)\n",
    "        time.sleep(2)  # Allow dynamic content to load\n",
    "        player_elements = self.wait.until(\n",
    "            EC.presence_of_all_elements_located(\n",
    "                (By.CSS_SELECTOR, \"div.ds-flex.ds-space-x-2 a\")\n",
    "            )\n",
    "        )\n",
    "        return [elem.get_attribute('href') for elem in player_elements]\n",
    "    \n",
    "    def get_player_info(self, url):\n",
    "        try:\n",
    "            self.driver.get(url)\n",
    "            \n",
    "            # First get the player's name\n",
    "            name_xpath = \"//p[contains(@class, 'ds-text-tight-m') and contains(text(), 'Full Name')]/following-sibling::span[contains(@class, 'ds-text-title-s')]/p\"\n",
    "            name = self.wait.until(EC.presence_of_element_located((By.XPATH, name_xpath))).text.strip()\n",
    "            \n",
    "            # Get all images and find the one with alt text containing the player's name\n",
    "            images = self.driver.find_elements(By.TAG_NAME, \"img\")\n",
    "            player_image = \"\"\n",
    "            name_parts = name.lower().split()\n",
    "            \n",
    "            for img in images:\n",
    "                alt_text = img.get_attribute('alt').lower()\n",
    "                if any(part in alt_text for part in name_parts):\n",
    "                    player_image = img.get_attribute('src')\n",
    "                    break\n",
    "            \n",
    "            selectors = {\n",
    "                'batting_style': \"//p[contains(@class, 'ds-text-tight-m') and contains(text(), 'Batting Style')]/following-sibling::span[contains(@class, 'ds-text-title-s')]/p\",\n",
    "                'bowling_style': \"//p[contains(@class, 'ds-text-tight-m') and contains(text(), 'Bowling Style')]/following-sibling::span[contains(@class, 'ds-text-title-s')]/p\",\n",
    "                'playing_role': \"//p[contains(@class, 'ds-text-tight-m') and contains(text(), 'Playing Role')]/following-sibling::span[contains(@class, 'ds-text-title-s')]/p\"\n",
    "            }\n",
    "            \n",
    "            info = {\n",
    "                'name': name,\n",
    "                'image': player_image\n",
    "            }\n",
    "            \n",
    "            for key, xpath in selectors.items():\n",
    "                try:\n",
    "                    element = self.driver.find_element(By.XPATH, xpath)\n",
    "                    info[key] = element.text.strip()\n",
    "                except:\n",
    "                    info[key] = \"\"\n",
    "            \n",
    "            info['description'] = self.get_description()\n",
    "            \n",
    "            return info if info['name'] else None\n",
    "            \n",
    "        except Exception as e:\n",
    "            print(f\"\\nError extracting info from {url}: {e}\")\n",
    "            return None\n",
    "\n",
    "    def get_description(self):\n",
    "        try:\n",
    "            elements = self.driver.find_elements(\n",
    "                By.CSS_SELECTOR, \"div.ci-player-bio-content p\"\n",
    "            )\n",
    "            return \" \".join([elem.text.strip() for elem in elements if elem.text.strip()])\n",
    "        except:\n",
    "            return \"\"\n",
    "    \n",
    "    def scrape_players(self):\n",
    "        # Get all team links\n",
    "        team_links = self.get_all_team_links()\n",
    "        print(f\"Found {len(team_links)} teams\")\n",
    "        \n",
    "        # Collect all player links\n",
    "        all_player_links = []\n",
    "        for team_url in tqdm(team_links, desc=\"Collecting team rosters\", unit=\"team\"):\n",
    "            player_links = self.get_player_links_for_team(team_url)\n",
    "            all_player_links.extend(player_links)\n",
    "        \n",
    "        print(f\"\\nFound {len(all_player_links)} players total\")\n",
    "        \n",
    "        # Create/open CSV file\n",
    "        with open('ipl_players.csv', 'w', newline='', encoding='utf-8') as csvfile:\n",
    "            fieldnames = ['name', 'image', 'batting_style', 'bowling_style', 'playing_role', 'description']\n",
    "            writer = csv.DictWriter(csvfile, fieldnames=fieldnames)\n",
    "            writer.writeheader()\n",
    "            \n",
    "            # Scrape each player's info with progress bar\n",
    "            for url in tqdm(all_player_links, desc=\"Scraping player data\", unit=\"player\"):\n",
    "                player_info = self.get_player_info(url)\n",
    "                if player_info:\n",
    "                    writer.writerow(player_info)\n",
    "    \n",
    "    def close(self):\n",
    "        self.driver.quit()"
   ]
  },
  {
   "cell_type": "code",
   "execution_count": 42,
   "metadata": {},
   "outputs": [],
   "source": [
    "def main():\n",
    "    scraper = IPLScraper()\n",
    "    try:\n",
    "        scraper.scrape_players()\n",
    "    finally:\n",
    "        scraper.close()\n",
    "        print(\"\\nScraping completed. Check ipl_players.csv for results.\")"
   ]
  },
  {
   "cell_type": "code",
   "execution_count": 43,
   "metadata": {},
   "outputs": [
    {
     "name": "stdout",
     "output_type": "stream",
     "text": [
      "Found 10 teams\n"
     ]
    },
    {
     "name": "stderr",
     "output_type": "stream",
     "text": [
      "Collecting team rosters: 100%|██████████| 10/10 [00:41<00:00,  4.18s/team]\n"
     ]
    },
    {
     "name": "stdout",
     "output_type": "stream",
     "text": [
      "\n",
      "Found 262 players total\n"
     ]
    },
    {
     "name": "stderr",
     "output_type": "stream",
     "text": [
      "Scraping player data: 100%|██████████| 262/262 [13:27<00:00,  3.08s/player]\n"
     ]
    },
    {
     "name": "stdout",
     "output_type": "stream",
     "text": [
      "\n",
      "Scraping completed. Check ipl_players.csv for results.\n"
     ]
    }
   ],
   "source": [
    "if __name__ == \"__main__\":\n",
    "    main()"
   ]
  }
 ],
 "metadata": {
  "kernelspec": {
   "display_name": "Python 3",
   "language": "python",
   "name": "python3"
  },
  "language_info": {
   "codemirror_mode": {
    "name": "ipython",
    "version": 3
   },
   "file_extension": ".py",
   "mimetype": "text/x-python",
   "name": "python",
   "nbconvert_exporter": "python",
   "pygments_lexer": "ipython3",
   "version": "3.11.9"
  }
 },
 "nbformat": 4,
 "nbformat_minor": 2
}
